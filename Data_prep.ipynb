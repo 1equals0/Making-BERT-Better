{
 "cells": [
  {
   "cell_type": "code",
   "execution_count": 5,
   "metadata": {},
   "outputs": [
    {
     "name": "stdout",
     "output_type": "stream",
     "text": [
      "<bound method NDFrame.head of        ItemID  Sentiment                                      SentimentText\n",
      "0           1          0                       is so sad for my APL frie...\n",
      "1           2          0                     I missed the New Moon trail...\n",
      "2           3          1                            omg its already 7:30 :O\n",
      "3           4          0            .. Omgaga. Im sooo  im gunna CRy. I'...\n",
      "4           5          0           i think mi bf is cheating on me!!!   ...\n",
      "...       ...        ...                                                ...\n",
      "99984   99996          0  @Cupcake  seems like a repeating problem   hop...\n",
      "99985   99997          1  @cupcake__ arrrr we both replied to each other...\n",
      "99986   99998          0                     @CuPcAkE_2120 ya i thought so \n",
      "99987   99999          1  @Cupcake_Dollie Yes. Yes. I'm glad you had mor...\n",
      "99988  100000          1                    @cupcake_kayla haha yes you do \n",
      "\n",
      "[99989 rows x 3 columns]>\n"
     ]
    }
   ],
   "source": [
    "# Python 3.7.3\n",
    "# Notebook for data preperation\n",
    "# Any data that has an \"ID\" column and a \"Text\" column\n",
    "\n",
    "import numpy as np\n",
    "import matplotlib.pyplot as plt\n",
    "import pandas as pd\n",
    "\n",
    "#loading the dataset\n",
    "df = pd.read_csv('train.csv',encoding='latin-1')\n",
    "print(df.head)"
   ]
  },
  {
   "cell_type": "code",
   "execution_count": 6,
   "metadata": {},
   "outputs": [
    {
     "name": "stdout",
     "output_type": "stream",
     "text": [
      "<bound method NDFrame.head of                                            SentimentText  Sentiment\n",
      "0                           is so sad for my APL frie...          0\n",
      "1                         I missed the New Moon trail...          0\n",
      "2                                omg its already 7:30 :O          1\n",
      "3                .. Omgaga. Im sooo  im gunna CRy. I'...          0\n",
      "4               i think mi bf is cheating on me!!!   ...          0\n",
      "...                                                  ...        ...\n",
      "99984  @Cupcake  seems like a repeating problem   hop...          0\n",
      "99985  @cupcake__ arrrr we both replied to each other...          1\n",
      "99986                     @CuPcAkE_2120 ya i thought so           0\n",
      "99987  @Cupcake_Dollie Yes. Yes. I'm glad you had mor...          1\n",
      "99988                    @cupcake_kayla haha yes you do           1\n",
      "\n",
      "[99989 rows x 2 columns]>\n"
     ]
    }
   ],
   "source": [
    "# Reindex columns to order that Bert specifies on line 164 of run_classifier.py (this may change with differnet models)\n",
    "df = df.drop(columns = ['ItemID'])\n",
    "df = df.reindex(columns = ['SentimentText','Sentiment'])\n",
    "\n",
    "print(df.head)"
   ]
  },
  {
   "cell_type": "code",
   "execution_count": 8,
   "metadata": {},
   "outputs": [
    {
     "data": {
      "image/png": "[encoded data removed]",
      "text/plain": [
       "<Figure size 432x288 with 1 Axes>"
      ]
     },
     "metadata": {
      "needs_background": "light"
     },
     "output_type": "display_data"
    }
   ],
   "source": [
    "# find number of words per tweet before preprocessing\n",
    "data = df['SentimentText'].str.split().str.len()\n",
    "bins = np.arange(-100, 100, 5) # fixed bin size\n",
    "\n",
    "plt.xlim([min(data)-5, max(data)+5])\n",
    "plt.hist(data, bins=bins, alpha=0.5)\n",
    "plt.title('Number of words per tweet before data preprocessing')\n",
    "plt.xlabel('Words (bin size = 5)')\n",
    "plt.ylabel('count')\n",
    "plt.show()"
   ]
  },
  {
   "cell_type": "code",
   "execution_count": 9,
   "metadata": {},
   "outputs": [],
   "source": [
    "#Convert from dataframe to series\n",
    "string = df['SentimentText']"
   ]
  },
  {
   "cell_type": "code",
   "execution_count": 10,
   "metadata": {},
   "outputs": [
    {
     "name": "stderr",
     "output_type": "stream",
     "text": [
      "D:\\Python\\Anaconda\\lib\\site-packages\\ipykernel_launcher.py:10: SettingWithCopyWarning: \n",
      "A value is trying to be set on a copy of a slice from a DataFrame\n",
      "\n",
      "See the caveats in the documentation: https://pandas.pydata.org/pandas-docs/stable/user_guide/indexing.html#returning-a-view-versus-a-copy\n",
      "  # Remove the CWD from sys.path while we load stuff.\n"
     ]
    },
    {
     "name": "stdout",
     "output_type": "stream",
     "text": [
      "<bound method NDFrame.head of 0                             is so sad for my APL frie...\n",
      "1                           I missed the New Moon trail...\n",
      "2                                  omg its already 7:30 :O\n",
      "3                  .. Omgaga. Im sooo  im gunna CRy. I'...\n",
      "4                 i think mi bf is cheating on me!!!   ...\n",
      "                               ...                        \n",
      "99984      seems like a repeating problem   hope you're...\n",
      "99985     arrrr we both replied to each other over diff...\n",
      "99986                                     ya i thought so \n",
      "99987        Yes. Yes. I'm glad you had more fun with me. \n",
      "99988                                     haha yes you do \n",
      "Name: SentimentText, Length: 99989, dtype: object>\n"
     ]
    }
   ],
   "source": [
    "# from https://stackoverflow.com/questions/27195769/python-remove-word-start-with-specific-character\n",
    "# and https://stackabuse.com/using-regex-for-text-manipulation-in-python/\n",
    "\n",
    "# re is able to match/serach/finall and sub (substitute) values\n",
    "# re searches for the '@' character and all other words in the following word (\\w+) and substitues it with a blank\n",
    "\n",
    "import re\n",
    "\n",
    "for index, value in string.items():\n",
    "    string[index] = re.sub(r'@\\w+','', value)\n",
    "    \n",
    "print(string.head)"
   ]
  },
  {
   "cell_type": "code",
   "execution_count": 11,
   "metadata": {},
   "outputs": [],
   "source": [
    "# turn series back to dataframe\n",
    "\n",
    "df['SentimentText'] = string"
   ]
  },
  {
   "cell_type": "code",
   "execution_count": 12,
   "metadata": {},
   "outputs": [],
   "source": [
    "# from https://towardsdatascience.com/updated-text-preprocessing-techniques-for-sentiment-analysis-549af7fe412a\n",
    "# https://towardsdatascience.com/why-you-should-avoid-removing-stopwords-aa7a353d2a52\n",
    "# remove some (not all) stop words, this one is specifically meant for sentiment analysis\n",
    "\n",
    "from nlppreprocess import NLP\n",
    "import pandas as pd\n",
    "\n",
    "nlp = NLP()\n",
    "df['SentimentText'] = df['SentimentText'].apply(nlp.process)"
   ]
  },
  {
   "cell_type": "code",
   "execution_count": 13,
   "metadata": {},
   "outputs": [],
   "source": [
    "# https://stackoverflow.com/questions/49984905/count-number-of-words-per-row\n",
    "\n",
    "df['SentimentText'] = df['SentimentText'].str.strip('0123456789. #')"
   ]
  },
  {
   "cell_type": "code",
   "execution_count": 14,
   "metadata": {},
   "outputs": [],
   "source": [
    "# drop rows with nan values in the 'SentimentText' column\n",
    "df = df.dropna()"
   ]
  },
  {
   "cell_type": "code",
   "execution_count": 15,
   "metadata": {},
   "outputs": [],
   "source": [
    "# Split the phrases into individual words\n",
    "df['numwords'] = df['SentimentText'].str.split().str.len()"
   ]
  },
  {
   "cell_type": "code",
   "execution_count": 18,
   "metadata": {},
   "outputs": [
    {
     "data": {
      "image/png": "[encoded data removed]",
      "text/plain": [
       "<Figure size 432x288 with 1 Axes>"
      ]
     },
     "metadata": {
      "needs_background": "light"
     },
     "output_type": "display_data"
    }
   ],
   "source": [
    "# plot the number of words per tweet after preprocessing\n",
    "data = df['numwords']\n",
    "\n",
    "# fixed bin size\n",
    "bins = np.arange(-100, 100, 5) # fixed bin size\n",
    "\n",
    "plt.xlim([min(data)-5, max(data)+5])\n",
    "\n",
    "plt.hist(data, bins=bins, alpha=0.5)\n",
    "plt.title('Number of words per tweet after data preprocessing')\n",
    "plt.xlabel('Words (bin size = 5)')\n",
    "plt.ylabel('Word count')\n",
    "\n",
    "plt.show()"
   ]
  },
  {
   "cell_type": "code",
   "execution_count": 21,
   "metadata": {},
   "outputs": [
    {
     "name": "stdout",
     "output_type": "stream",
     "text": [
      "97\n"
     ]
    }
   ],
   "source": [
    "# Largest number of words in a tweet in the dataset\n",
    "print(max(data))"
   ]
  },
  {
   "cell_type": "code",
   "execution_count": 10,
   "metadata": {},
   "outputs": [
    {
     "name": "stdout",
     "output_type": "stream",
     "text": [
      "133984 65994\n"
     ]
    }
   ],
   "source": [
    "# split and create train and validation dataset\n",
    "from sklearn.model_selection import train_test_split\n",
    "df_train, df_test = train_test_split(df, test_size = 0.33, random_state = 0)\n",
    "\n",
    "print(df_train.size, df_test.size)"
   ]
  },
  {
   "cell_type": "code",
   "execution_count": 11,
   "metadata": {},
   "outputs": [],
   "source": [
    "# the header and index options are based on the bert model found in \n",
    "# https://towardsdatascience.com/beginners-guide-to-bert-for-multi-classification-task-92f5445c2d7c\n",
    "\n",
    "df_test.to_csv('test.tsv', sep = '\\t',index=True, header=True )\n",
    "df_train.to_csv('train.tsv', sep = '\\t', index = True, header = True)"
   ]
  }
 ],
 "metadata": {
  "kernelspec": {
   "display_name": "Python 3",
   "language": "python",
   "name": "python3"
  },
  "language_info": {
   "codemirror_mode": {
    "name": "ipython",
    "version": 3
   },
   "file_extension": ".py",
   "mimetype": "text/x-python",
   "name": "python",
   "nbconvert_exporter": "python",
   "pygments_lexer": "ipython3",
   "version": "3.7.3"
  }
 },
 "nbformat": 4,
 "nbformat_minor": 4
}
